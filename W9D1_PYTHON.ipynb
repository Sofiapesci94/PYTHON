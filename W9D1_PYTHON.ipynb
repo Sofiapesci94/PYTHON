{
 "cells": [
  {
   "cell_type": "code",
   "execution_count": 1,
   "id": "10894090-3e94-4c70-8868-dce31e147310",
   "metadata": {},
   "outputs": [],
   "source": [
    "#Abbiamo 25 studenti; memorizzare questo dato in una variabile.\n",
    "studenti=25"
   ]
  },
  {
   "cell_type": "code",
   "execution_count": 5,
   "id": "1249197d-8982-4784-8c94-172e219b471b",
   "metadata": {},
   "outputs": [
    {
     "name": "stdout",
     "output_type": "stream",
     "text": [
      "25\n"
     ]
    }
   ],
   "source": [
    "#Abbiamo 25 studenti; memorizzare questo dato in una variabile e stamparla a video.\n",
    "print(studenti)"
   ]
  },
  {
   "cell_type": "code",
   "execution_count": 38,
   "id": "bf2fd816-5ecf-4f2b-94e6-51d9f153f89e",
   "metadata": {},
   "outputs": [],
   "source": [
    "#Arrivano altri 3 studenti; memorizzare questo dato in un'altra variabile.\n",
    "studenti_nuovi=3"
   ]
  },
  {
   "cell_type": "code",
   "execution_count": 49,
   "id": "f2388473-6730-4ee7-a343-3f4729ed118c",
   "metadata": {},
   "outputs": [
    {
     "name": "stdout",
     "output_type": "stream",
     "text": [
      "28\n"
     ]
    }
   ],
   "source": [
    "#Creare un'altra variabile ancora che conterrà la somma delle prime due, poi stamparla a video.\n",
    "tot_studenti = studenti+studenti_nuovi\n",
    "print(tot_studenti)"
   ]
  },
  {
   "cell_type": "code",
   "execution_count": 55,
   "id": "c79509c1-f908-45ed-9f1d-1167913d3423",
   "metadata": {},
   "outputs": [
    {
     "name": "stdout",
     "output_type": "stream",
     "text": [
      "epicode\n"
     ]
    }
   ],
   "source": [
    "#Creare una variabile che contiene la stringa \"Epicode\", quindi stamparla a video.\n",
    "corso_online = \"epicode\"\n",
    "print(corso_online)"
   ]
  },
  {
   "cell_type": "code",
   "execution_count": 59,
   "id": "45488a7d-7a74-4311-ad86-9ccf47e7fad9",
   "metadata": {},
   "outputs": [
    {
     "data": {
      "text/plain": [
       "36"
      ]
     },
     "execution_count": 59,
     "metadata": {},
     "output_type": "execute_result"
    }
   ],
   "source": [
    "#x = 10 Incrementarla di 2 e poi moltiplicarla per 3\n",
    "x=10\n",
    "x+2\n",
    "12*3"
   ]
  },
  {
   "cell_type": "code",
   "execution_count": 61,
   "id": "e9b46442-7432-4e00-8e21-ea30f7b46a34",
   "metadata": {},
   "outputs": [
    {
     "data": {
      "text/plain": [
       "36"
      ]
     },
     "execution_count": 61,
     "metadata": {},
     "output_type": "execute_result"
    }
   ],
   "source": [
    "#Usare due metodi diversi (ad esempio, uno utilizzando gli operatori di assegnazione, e uno senza)\n",
    "x=10\n",
    "y=2\n",
    "xy=x+y\n",
    "z=3\n",
    "xy*z"
   ]
  },
  {
   "cell_type": "code",
   "execution_count": 73,
   "id": "f934be56-184c-4e30-8c71-70abc1812f07",
   "metadata": {},
   "outputs": [
    {
     "name": "stdout",
     "output_type": "stream",
     "text": [
      "True\n",
      "True\n",
      "False\n",
      "False\n"
     ]
    }
   ],
   "source": [
    "#Verificare, per ognuna delle seguenti stringhe, \n",
    "#se il numero di caratteri è compreso tra 5 e 8: \n",
    "str1 = \"Windows\" \n",
    "str2 = \"Excel\" \n",
    "str3 = \"Powerpoint\" \n",
    "str4 = \"Word\"\n",
    "\n",
    "print(5<=len(str1)<=8)\n",
    "print(5<=len(str2)<=8)\n",
    "print(5<=len(str3)<=8)\n",
    "print(5<=len(str4)<=8)"
   ]
  },
  {
   "cell_type": "code",
   "execution_count": 77,
   "id": "d06cf6a1-c9d3-4782-81a8-bd3be9eec030",
   "metadata": {},
   "outputs": [
    {
     "name": "stdout",
     "output_type": "stream",
     "text": [
      "31536000\n"
     ]
    }
   ],
   "source": [
    "#Calcolare e stampare a video quanti secondi ci sono in un anno non bisestile.\n",
    "secondi_anno_non_bisestile=60*60*24*365\n",
    "print(secondi_anno_non_bisestile)"
   ]
  },
  {
   "cell_type": "code",
   "execution_count": 87,
   "id": "b96b8098-e683-4a13-94aa-a3e620c0924b",
   "metadata": {},
   "outputs": [
    {
     "name": "stdout",
     "output_type": "stream",
     "text": [
      "I AM STUDYING PYTHON\n",
      "i am studying python\n",
      "I am studying a lot\n"
     ]
    }
   ],
   "source": [
    "my_string = \"I am studying Python\"\n",
    "MAIUSC= str.upper(my_string)\n",
    "MINUSC=str.lower(my_string)\n",
    "REPLACE=str.replace(my_string,'Python','a lot')\n",
    "\n",
    "print(MAIUSC)\n",
    "print(MINUSC)\n",
    "print(REPLACE)"
   ]
  },
  {
   "cell_type": "code",
   "execution_count": null,
   "id": "048710ee-8266-4ddd-9f87-10f4aed6a8fc",
   "metadata": {},
   "outputs": [],
   "source": []
  }
 ],
 "metadata": {
  "kernelspec": {
   "display_name": "Python [conda env:base] *",
   "language": "python",
   "name": "conda-base-py"
  },
  "language_info": {
   "codemirror_mode": {
    "name": "ipython",
    "version": 3
   },
   "file_extension": ".py",
   "mimetype": "text/x-python",
   "name": "python",
   "nbconvert_exporter": "python",
   "pygments_lexer": "ipython3",
   "version": "3.12.7"
  }
 },
 "nbformat": 4,
 "nbformat_minor": 5
}
