{
 "cells": [
  {
   "cell_type": "code",
   "execution_count": 15,
   "id": "9156ae6b-abac-48bb-badf-a1a2bb75015b",
   "metadata": {},
   "outputs": [],
   "source": [
    "import numpy as np\n",
    "import pandas as pd"
   ]
  },
  {
   "cell_type": "code",
   "execution_count": 25,
   "id": "31261b22-be4a-4a80-baee-1bf91501294e",
   "metadata": {},
   "outputs": [
    {
     "name": "stdout",
     "output_type": "stream",
     "text": [
      "   colonna1  colonna2  colonna3\n",
      "a         0         5        10\n",
      "b         1         6        11\n",
      "c         2         7        12\n",
      "d         3         8        13\n",
      "e         4         9        14\n"
     ]
    }
   ],
   "source": [
    "#Che tipo di struttura dati o matematica potrebbe rappresentare? Notare che tutte le liste \"interne\" \n",
    "#sono della stessa dimensione? io l'ho interpretata come un DataFrame\n",
    "mat = [[0, 1, 2, 3, 4], [5, 6, 7, 8, 9], [10, 11, 12, 13, 14]]\n",
    "mat_dataframe = pd.DataFrame ({'colonna1':[0, 1, 2, 3, 4], 'colonna2': [5, 6, 7, 8, 9], 'colonna3':[10, 11, 12, 13, 14]}, index=list('abcde'))\n",
    "print(mat_dataframe)"
   ]
  },
  {
   "cell_type": "code",
   "execution_count": 41,
   "id": "c8caf4c6-0e57-4668-b172-62c971b06253",
   "metadata": {},
   "outputs": [
    {
     "name": "stdout",
     "output_type": "stream",
     "text": [
      "a    5\n",
      "b    6\n",
      "c    7\n",
      "d    8\n",
      "e    9\n",
      "Name: colonna2, dtype: int64\n"
     ]
    }
   ],
   "source": [
    "print(mat_dataframe['colonna2']) #richiamo la chiave per visualizzare il suo valore"
   ]
  },
  {
   "cell_type": "code",
   "execution_count": 65,
   "id": "7b2e8d91-5ec5-4fdb-8148-65d4f4b6f5bb",
   "metadata": {},
   "outputs": [
    {
     "name": "stdout",
     "output_type": "stream",
     "text": [
      "colonna1     2\n",
      "colonna2     7\n",
      "colonna3    12\n",
      "Name: c, dtype: int64\n"
     ]
    }
   ],
   "source": [
    "#Come facciamo per accedere ad un elemento in particolare?\n",
    "#creiamo una variabile per richiamare la riga ctramite il proprio indice\n",
    "riga_c= mat_dataframe.loc['c'] #.loc serve per bloccare una riga in una tabella\n",
    "print(riga_c)"
   ]
  },
  {
   "cell_type": "code",
   "execution_count": 69,
   "id": "8a9a2cd0-1614-4228-b581-e38baf3b6aaa",
   "metadata": {},
   "outputs": [
    {
     "name": "stdout",
     "output_type": "stream",
     "text": [
      "12\n"
     ]
    }
   ],
   "source": [
    "#Come facciamo per accedere ad un elemento in particolare?\n",
    "print(mat_dataframe.loc['c','colonna3']) #richiamare riga poi colonna"
   ]
  },
  {
   "cell_type": "code",
   "execution_count": 83,
   "id": "fcaa4863-7e01-4981-a059-7bdcdceb688c",
   "metadata": {},
   "outputs": [
    {
     "name": "stdout",
     "output_type": "stream",
     "text": [
      "   colonna2  colonna3\n",
      "c         7        12\n",
      "d         8        13\n",
      "e         9        14\n"
     ]
    }
   ],
   "source": [
    "#ultime tre righe della colonna3 #richiamo le righe e le colonne\n",
    "print(mat_dataframe.loc['c':'e', 'colonna2':'colonna3'])"
   ]
  },
  {
   "cell_type": "code",
   "execution_count": 89,
   "id": "1f169a04-8744-41cb-abd6-c275ce6e0ced",
   "metadata": {},
   "outputs": [
    {
     "name": "stdout",
     "output_type": "stream",
     "text": [
      "   colonna1  colonna2  colonna3\n",
      "a         0         5        10\n",
      "b         1         6        11\n",
      "c         2         7        12\n",
      "d         3         8        13\n",
      "e         4         9        14\n"
     ]
    }
   ],
   "source": [
    "print(mat_dataframe.loc['a':'e', 'colonna1':'colonna3'])"
   ]
  },
  {
   "cell_type": "code",
   "execution_count": 111,
   "id": "6d5a158b-7f00-4c27-9b6b-aca3cd83f085",
   "metadata": {},
   "outputs": [
    {
     "name": "stdout",
     "output_type": "stream",
     "text": [
      "c    7\n",
      "d    8\n",
      "Name: colonna2, dtype: int64\n"
     ]
    }
   ],
   "source": [
    "print(mat_dataframe.iloc[-3:,1]) #.iloc ti prende la posizione della riga"
   ]
  },
  {
   "cell_type": "code",
   "execution_count": 113,
   "id": "785321b5-f181-425e-adfa-50c621652e1b",
   "metadata": {},
   "outputs": [],
   "source": [
    "import math"
   ]
  },
  {
   "cell_type": "code",
   "execution_count": 148,
   "id": "814b7da2-2411-42a7-88ee-52163a261572",
   "metadata": {},
   "outputs": [
    {
     "data": {
      "text/plain": [
       "0.17364817766693033"
      ]
     },
     "execution_count": 148,
     "metadata": {},
     "output_type": "execute_result"
    }
   ],
   "source": [
    "#Importiamo il modulo math e proviamo a usare le funzioni\n",
    "numero=10\n",
    "radianti = math.radians(numero)\n",
    "math.sin(radianti) #seno"
   ]
  },
  {
   "cell_type": "code",
   "execution_count": 146,
   "id": "2e8a7f36-23a0-4a36-bea9-38cabab30a68",
   "metadata": {},
   "outputs": [
    {
     "data": {
      "text/plain": [
       "0.984807753012208"
      ]
     },
     "execution_count": 146,
     "metadata": {},
     "output_type": "execute_result"
    }
   ],
   "source": [
    "numero=10\n",
    "radianti = math.radians(numero)\n",
    "math.cos(radianti) #coseno"
   ]
  },
  {
   "cell_type": "code",
   "execution_count": 127,
   "id": "92e659e0-822e-4333-8e30-b9c662cbfd41",
   "metadata": {},
   "outputs": [
    {
     "data": {
      "text/plain": [
       "3628800"
      ]
     },
     "execution_count": 127,
     "metadata": {},
     "output_type": "execute_result"
    }
   ],
   "source": [
    "math.factorial(10) #fattoriale"
   ]
  },
  {
   "cell_type": "code",
   "execution_count": 152,
   "id": "dd181545-6bcd-4e34-9b8d-b739dbc5a0e9",
   "metadata": {},
   "outputs": [
    {
     "data": {
      "text/plain": [
       "3.14"
      ]
     },
     "execution_count": 152,
     "metadata": {},
     "output_type": "execute_result"
    }
   ],
   "source": [
    "round(math.pi,2)  #pigreco"
   ]
  },
  {
   "cell_type": "code",
   "execution_count": 160,
   "id": "ab710218-cba2-4ca3-83d0-a43fe99ddd16",
   "metadata": {},
   "outputs": [
    {
     "name": "stdout",
     "output_type": "stream",
     "text": [
      "Help on built-in function degrees in module math:\n",
      "\n",
      "degrees(x, /)\n",
      "    Convert angle x from radians to degrees.\n",
      "\n"
     ]
    },
    {
     "data": {
      "text/plain": [
       "180.0"
      ]
     },
     "execution_count": 160,
     "metadata": {},
     "output_type": "execute_result"
    }
   ],
   "source": [
    "help(math.degrees)\n",
    "x=10\n",
    "math.degrees(math.pi)"
   ]
  },
  {
   "cell_type": "code",
   "execution_count": 111,
   "id": "b65df476-51f5-490c-9fb4-a2091e3ab1ea",
   "metadata": {},
   "outputs": [
    {
     "name": "stdout",
     "output_type": "stream",
     "text": [
      "[2000 5500 7200 4320 1280 1900 2500 3900 6410 8150 7100 5350]\n"
     ]
    }
   ],
   "source": [
    "#esercizio 5\n",
    "lst = [2000, 5500, 7200, 4320, 1280, 1900, 2500, 3900, 6410, 8150, 7100, 5350]\n",
    "vendite=np.array(lst)\n",
    "print(vendite)"
   ]
  },
  {
   "cell_type": "code",
   "execution_count": 113,
   "id": "1cb1fd01-ccf7-42e3-9c89-c82fa71f5d7a",
   "metadata": {},
   "outputs": [
    {
     "name": "stdout",
     "output_type": "stream",
     "text": [
      "vendita_min: 1280\n",
      "vendita_max: 8150\n"
     ]
    }
   ],
   "source": [
    "# qual è stata la vendita massima mensile? E quella minima?\n",
    "print('vendita_min:',vendite.min()) #vendita minima\n",
    "print('vendita_max:',vendite.max()) #vendita massima"
   ]
  },
  {
   "cell_type": "code",
   "execution_count": 115,
   "id": "edb75f67-3c74-4c40-8dfa-e242e2fdd116",
   "metadata": {},
   "outputs": [
    {
     "name": "stdout",
     "output_type": "stream",
     "text": [
      "vendite maggiori di: 5500\n",
      "vendite maggiori di: 7200\n",
      "vendite maggiori di: 6410\n",
      "vendite maggiori di: 8150\n",
      "vendite maggiori di: 7100\n",
      "vendite maggiori di: 5350\n",
      "numeri vendite: 6\n"
     ]
    }
   ],
   "source": [
    "# quali sono le vendite mensili maggiori di 4999 oggetti? E quante ne sono?\n",
    "for vendita in vendite:\n",
    "    if vendita > 4999:\n",
    "       print('vendite maggiori di:', vendita)\n",
    "\n",
    "num_vendite = vendite > 4999 #ho dato un valore alle vendite minori di 4999\n",
    "somma = num_vendite.sum()   #ho sommato i valori minori di 4999\n",
    "print('numeri vendite:',somma)\n"
   ]
  },
  {
   "cell_type": "code",
   "execution_count": 117,
   "id": "bd349c17-1b43-4bd9-865b-cb49fdba36cb",
   "metadata": {},
   "outputs": [
    {
     "name": "stdout",
     "output_type": "stream",
     "text": [
      "vendite minori di 3000 oggetti: 2000\n",
      "vendite minori di 3000 oggetti: 1280\n",
      "vendite minori di 3000 oggetti: 1900\n",
      "vendite minori di 3000 oggetti: 2500\n"
     ]
    }
   ],
   "source": [
    "# quali sono le vendite minori di 3000 oggetti?\n",
    "for vendita in vendite:\n",
    "    if vendita < 3000:\n",
    "        print('vendite minori di 3000 oggetti:', vendita)"
   ]
  },
  {
   "cell_type": "code",
   "execution_count": 119,
   "id": "16e89018-e7bd-42a8-9182-1579fffb8f79",
   "metadata": {},
   "outputs": [
    {
     "name": "stdout",
     "output_type": "stream",
     "text": [
      "media mensile: 4634.166666666667\n"
     ]
    }
   ],
   "source": [
    "somma= vendite.sum()     #media vendite mensili (sommare le vendite di ogni mese e dividere per dodici)\n",
    "media=somma/12\n",
    "print('media mensile:',media)"
   ]
  },
  {
   "cell_type": "code",
   "execution_count": 121,
   "id": "a877d083-90f3-41fb-a40d-cbfd5aa92224",
   "metadata": {},
   "outputs": [
    {
     "data": {
      "text/plain": [
       "4634.166666666667"
      ]
     },
     "execution_count": 121,
     "metadata": {},
     "output_type": "execute_result"
    }
   ],
   "source": [
    "vendite.mean() #questa formula semplifica il passaggio sopra!"
   ]
  },
  {
   "cell_type": "code",
   "execution_count": 123,
   "id": "63ec1f09-f1bd-48c1-ab5d-fa6b5f156eaa",
   "metadata": {},
   "outputs": [
    {
     "name": "stdout",
     "output_type": "stream",
     "text": [
      "a    1\n",
      "b    2\n",
      "c    3\n",
      "d    4\n",
      "e    5\n",
      "f    6\n",
      "dtype: int64\n"
     ]
    },
    {
     "data": {
      "text/plain": [
       "c    3\n",
       "d    4\n",
       "e    5\n",
       "dtype: int64"
      ]
     },
     "execution_count": 123,
     "metadata": {},
     "output_type": "execute_result"
    }
   ],
   "source": [
    "# se richiami una serie di indici con l'indice assegnato da te non toglie l'ultima cifra, \n",
    "# se invece richiami una serie di indici numerici di posizionamento effettua lo slicing e ti elimina \n",
    "# l'ultima cifra\n",
    "lista= pd.Series([1,2,3,4,5,6], index=list('abcdef'))\n",
    "print(lista)\n",
    "lista['a':'c'] #indici dati da me\n",
    "lista[2:5] #indici di posizione numerica\n",
    "#vanno mandati separatamente e non tutti insieme altrimenti di darà solo un risultato!"
   ]
  },
  {
   "cell_type": "code",
   "execution_count": 12,
   "id": "562cebcd-bde7-4c96-9df9-9ac14f5e3b44",
   "metadata": {},
   "outputs": [
    {
     "data": {
      "text/plain": [
       "30"
      ]
     },
     "execution_count": 12,
     "metadata": {},
     "output_type": "execute_result"
    }
   ],
   "source": [
    "import pandas as pd\n",
    "eta= pd.Series([24,30,29], index=['sofia','fabri','aida'])\n",
    "eta['fabri']"
   ]
  },
  {
   "cell_type": "code",
   "execution_count": 19,
   "id": "3351520b-4ba4-4c96-8d9c-2ff6213d0e46",
   "metadata": {},
   "outputs": [
    {
     "data": {
      "text/plain": [
       "12000"
      ]
     },
     "execution_count": 19,
     "metadata": {},
     "output_type": "execute_result"
    }
   ],
   "source": [
    "# Consideriamo il seguente dizionario: \n",
    "fatturati_dict = {1997: 12_000, 1998: 15_000, 1999: 20_000, 2000: 23_000, 2001: 25_000, 2002: 17_000, 2003: 14_000, 2004: 21_000}\n",
    "\n",
    "# Consideriamo ora la seguente Series: \n",
    "fatturati_series = pd.Series([12_000, 15_000, 20_000, 23_000, 25_000, 17_000, 14_000, 21_000], index=range(1997, 2005))\n",
    "\n",
    "# Possiamo accedere alle stesse informazioni nello stesso modo:\n",
    "fatturati_dict[1997] \n",
    "fatturati_series[1997]\n",
    "\n",
    "# Dunque qual è la differenza tra i due tipi di dato?\n",
    "#RISPOSTA: abbiamo una series(molto più complessa e malleabile) e un dizionario(semplice anche se efficacie).\n",
    "# entrambi hanno una chiave alla quale è associato un valore, nella series si chiama indice, la scegliamo noi ed è molto più potente\n",
    "\n",
    "# Cosa potremmo fare con la Series che non possiamo fare con il dizionario?\n",
    "#nelle series ad esempio, potremmo eseguire calcoli per ogni valore in una sola volta, invece sui dizionari dovremmo eseguire\n",
    "# calcoli con un ciclo while o for"
   ]
  },
  {
   "cell_type": "code",
   "execution_count": 53,
   "id": "96c61839-2577-49f1-ae40-99efcd106e93",
   "metadata": {},
   "outputs": [
    {
     "name": "stdout",
     "output_type": "stream",
     "text": [
      "lo stipendio raddoppiato è: 200\n",
      "lo stipendio raddoppiato è: 400\n",
      "lo stipendio raddoppiato è: 600\n",
      "lo stipendio raddoppiato è: 800\n",
      "lo stipendio raddoppiato è: 1000\n",
      "lo stipendio raddoppiato è: 1200\n",
      "lo stipendio raddoppiato è: 1400\n",
      "lo stipendio raddoppiato è: 1600\n",
      "lo stipendio raddoppiato è: 1800\n",
      "lo stipendio raddoppiato è: 2000\n",
      "gli stipendi raddoppiati sono [array([ 200,  400,  600,  800, 1000, 1200, 1400, 1600, 1800, 2000])]\n"
     ]
    }
   ],
   "source": [
    "# L'azienda Object SpA ha un dataset con tutti gli stipendi dei dipendenti, memorizzato in un ndarray: \n",
    "import numpy as np \n",
    "stipendi = np.array( [100, 200, 300, 400, 500,  600, 700, 800, 900, 1000] ) \n",
    "# L'azienda ci chiede di raddoppiare tutti gli stipendi; facciamolo in due modi: \n",
    "# • con un ciclo for \n",
    "for stipendio in stipendi:\n",
    "    stipendio *= 2\n",
    "    print(f'lo stipendio raddoppiato è:',stipendio)\n",
    "# • con il masking\n",
    "stipendy =[stipendi*2] #sull'array devo creare una variabile, contenente il filtro data la condizione che voglio dare\n",
    "print(f'gli stipendi raddoppiati sono',stipendy)"
   ]
  }
 ],
 "metadata": {
  "kernelspec": {
   "display_name": "Python [conda env:base] *",
   "language": "python",
   "name": "conda-base-py"
  },
  "language_info": {
   "codemirror_mode": {
    "name": "ipython",
    "version": 3
   },
   "file_extension": ".py",
   "mimetype": "text/x-python",
   "name": "python",
   "nbconvert_exporter": "python",
   "pygments_lexer": "ipython3",
   "version": "3.12.7"
  }
 },
 "nbformat": 4,
 "nbformat_minor": 5
}
