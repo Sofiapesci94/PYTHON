{
 "cells": [
  {
   "cell_type": "code",
   "execution_count": 11,
   "id": "6fee1933-4462-4dd0-ba58-13a543b90642",
   "metadata": {},
   "outputs": [
    {
     "name": "stdout",
     "output_type": "stream",
     "text": [
      "Lettera: E\n",
      "Lettera: p\n",
      "Lettera: i\n",
      "Lettera: c\n",
      "Lettera: o\n",
      "Lettera: d\n",
      "Lettera: e\n"
     ]
    }
   ],
   "source": [
    "#Stampare ogni carattere della stringa, uno su ogni riga, utilizzando un costrutto while.\n",
    "nome_scuola = \"Epicode\"\n",
    "contatore = 0\n",
    "lunghezza = len(nome_scuola)\n",
    "\n",
    "while contatore < lunghezza:\n",
    "    carattere = nome_scuola[contatore]\n",
    "    print(\"Lettera:\", carattere)\n",
    "    contatore +=1"
   ]
  },
  {
   "cell_type": "code",
   "execution_count": 6,
   "id": "33481a68-2300-4a45-ab1a-215540fb3837",
   "metadata": {},
   "outputs": [
    {
     "name": "stdout",
     "output_type": "stream",
     "text": [
      "0\n",
      "1\n",
      "2\n",
      "3\n",
      "4\n",
      "5\n",
      "6\n",
      "7\n",
      "8\n",
      "9\n",
      "10\n",
      "11\n",
      "12\n",
      "13\n",
      "14\n",
      "15\n",
      "16\n",
      "17\n",
      "18\n",
      "19\n",
      "20\n",
      "finito\n"
     ]
    }
   ],
   "source": [
    "#Stampare a video tutti i numeri da 0 a 20 utilizzando il costrutto while\n",
    "countdown = 0\n",
    "\n",
    "while 0 <= countdown <= 20:\n",
    "     print(countdown)\n",
    "     countdown = countdown + 1\n",
    "\n",
    "print('finito')"
   ]
  },
  {
   "cell_type": "code",
   "execution_count": 12,
   "id": "08dfc12d-500d-4117-b0f5-9c0d8252b0b8",
   "metadata": {},
   "outputs": [
    {
     "name": "stdout",
     "output_type": "stream",
     "text": [
      "0\n",
      "1\n",
      "2\n",
      "3\n",
      "4\n",
      "5\n",
      "6\n",
      "7\n",
      "8\n",
      "9\n",
      "10\n",
      "11\n",
      "12\n",
      "13\n",
      "14\n",
      "15\n",
      "16\n",
      "17\n",
      "18\n",
      "19\n",
      "20\n",
      "stop\n"
     ]
    }
   ],
   "source": [
    "contatore = 0\n",
    "while contatore <= 20:\n",
    "    print(contatore)\n",
    "    contatore = contatore +1\n",
    "print('stop')\n",
    "      "
   ]
  },
  {
   "cell_type": "code",
   "execution_count": 5,
   "id": "ad337433-eb1c-4b97-bb49-72417fcce70e",
   "metadata": {},
   "outputs": [
    {
     "name": "stdout",
     "output_type": "stream",
     "text": [
      "2 ^ 0 : 1\n",
      "2 ^ 1 : 2\n",
      "2 ^ 2 : 4\n",
      "2 ^ 3 : 8\n",
      "2 ^ 4 : 16\n",
      "2 ^ 5 : 32\n",
      "2 ^ 6 : 64\n",
      "2 ^ 7 : 128\n",
      "2 ^ 8 : 256\n",
      "2 ^ 9 : 512\n",
      "2 ^ 10 : 1024\n"
     ]
    }
   ],
   "source": [
    "# Calcolare e stampare tutte le prime 10 potenze di 2 (e.g., 2⁰, 2¹, 2², …) utilizzando un ciclo while.\n",
    "contatore = 0\n",
    "numero = 2\n",
    "\n",
    "while contatore <= 10:\n",
    "    elevato = numero**contatore\n",
    "    print(f'{numero} ^ {contatore} : {elevato}')\n",
    "    contatore += 1\n"
   ]
  },
  {
   "cell_type": "code",
   "execution_count": 25,
   "id": "0e5c6113-840d-491a-83cd-e24e69bb10f9",
   "metadata": {},
   "outputs": [
    {
     "name": "stdout",
     "output_type": "stream",
     "text": [
      "elevazione= 2\n",
      "elevazione= 4\n",
      "elevazione= 8\n",
      "elevazione= 16\n",
      "elevazione= 32\n",
      "elevazione= 64\n",
      "elevazione= 128\n",
      "elevazione= 256\n",
      "elevazione= 512\n",
      "elevazione= 1024\n"
     ]
    }
   ],
   "source": [
    "# Calcolare e stampare tutte le prime 10 potenze di 2 (e.g., 2⁰, 2¹, 2², …) utilizzando un ciclo while.\n",
    "contatore = 1 \n",
    "potenza = 1 \n",
    "numero = 2\n",
    "\n",
    "while contatore <= 10:\n",
    "    elevato = numero * potenza\n",
    "    print('elevazione=', elevato)\n",
    "    potenza *=2\n",
    "    contatore +=1"
   ]
  },
  {
   "cell_type": "code",
   "execution_count": 56,
   "id": "1f66b4cc-6562-4867-9172-8a7c35ab808f",
   "metadata": {},
   "outputs": [
    {
     "name": "stdin",
     "output_type": "stream",
     "text": [
      " 20\n"
     ]
    },
    {
     "name": "stdout",
     "output_type": "stream",
     "text": [
      "elevazione= 2\n",
      "elevazione= 4\n",
      "elevazione= 8\n",
      "elevazione= 16\n",
      "elevazione= 32\n",
      "elevazione= 64\n",
      "elevazione= 128\n",
      "elevazione= 256\n",
      "elevazione= 512\n",
      "elevazione= 1024\n",
      "elevazione= 2048\n",
      "elevazione= 4096\n",
      "elevazione= 8192\n",
      "elevazione= 16384\n",
      "elevazione= 32768\n",
      "elevazione= 65536\n",
      "elevazione= 131072\n",
      "elevazione= 262144\n",
      "elevazione= 524288\n",
      "elevazione= 1048576\n",
      "elevazione= 2097152\n"
     ]
    }
   ],
   "source": [
    "#Calcolare e stampare tutte le prime N potenze di 2 utilizzando un ciclo while, domandando all'utente di inserire N.\n",
    "\n",
    "contatore = 0\n",
    "N= input()\n",
    "potenza = 1\n",
    "numero = 2\n",
    "\n",
    "\n",
    "while contatore <= int(N):\n",
    "    elevato= numero*potenza\n",
    "    print('elevazione=',elevato)\n",
    "    potenza *=2\n",
    "    contatore += 1\n",
    "    "
   ]
  },
  {
   "cell_type": "code",
   "execution_count": null,
   "id": "93e21055-f1cd-4b48-ac7f-7ad1074c4485",
   "metadata": {},
   "outputs": [
    {
     "name": "stdout",
     "output_type": "stream",
     "text": [
      "2\n",
      "4\n",
      "8\n",
      "16\n",
      "32\n",
      "64\n",
      "128\n",
      "256\n",
      "512\n",
      "1024\n",
      "2048\n",
      "4096\n",
      "8192\n",
      "16384\n"
     ]
    }
   ],
   "source": [
    "#Calcolare e stampare tutte le potenze di 2 minori di 25000.\n",
    "\n",
    "contatore = 1\n",
    "potenza = 1\n",
    "numero = 2\n",
    "\n",
    "while contatore >= 1:\n",
    "    elevato=numero*potenza\n",
    "    potenza*=2\n",
    "    contatore+=1\n",
    "    if elevato <= 25000:\n",
    "        print (elevato)\n",
    "    "
   ]
  },
  {
   "cell_type": "code",
   "execution_count": 67,
   "id": "9b614cb0-7885-43e0-aedb-9cd81042ce0c",
   "metadata": {},
   "outputs": [
    {
     "name": "stdout",
     "output_type": "stream",
     "text": [
      "['Alex', 'Bob', 'Cindy', 'Dan', 'Emma', 'Faith', 'Grace', 'Henry']\n",
      "['Cybersecurity', 'Data Analyst', 'Backend', 'Frontend', 'Data Analyst', 'Backend', 'frontend', 'cybersecurity']\n"
     ]
    }
   ],
   "source": [
    "#Abbiamo due liste, una di studenti e una di corsi:\n",
    "studenti = [\"Alex\", \"Bob\", \"Cindy\", \"Dan\", \"Emma\", \"Faith\", \"Grace\", \"Henry\"] \n",
    "corsi = [\"Cybersecurity\", \"Data Analyst\", \"Backend\", \"Frontend\", \"Data Analyst\", \"Backend\"]\n",
    "\n",
    "while len(corsi)<len(studenti):\n",
    "    corsi.append('frontend')\n",
    "    corsi.append('cybersecurity')\n",
    "    print(studenti)\n",
    "    print(corsi)\n",
    "    "
   ]
  },
  {
   "cell_type": "code",
   "execution_count": 11,
   "id": "9d445bfa-9cca-48ad-b112-6f61082ab350",
   "metadata": {},
   "outputs": [
    {
     "name": "stdin",
     "output_type": "stream",
     "text": [
      "digita qualcosa ciao!!!\n"
     ]
    },
    {
     "name": "stdout",
     "output_type": "stream",
     "text": [
      "la frase è cia...!!!\n"
     ]
    }
   ],
   "source": [
    "#Scriviamo un programma che chiede in input all'utente una stringa e visualizza i primi 3 caratteri,\n",
    "#seguiti da 3 punti di sospensione e quindi gli ultimi 3 caratteri, similmente all'esercizio della lezione scorsa. \n",
    "#Stavolta facciamo attenzione a tutti i casi particolari, \n",
    "#ovvero implementare soluzioni ad hoc per stringhe di lunghezza inferiore a 6 caratteri.\n",
    "\n",
    "N = input('digita qualcosa')\n",
    "lunghezza = len(N)\n",
    "if lunghezza < 3:\n",
    "    frase = N\n",
    "elif lunghezza <6:\n",
    "    frase = N[:3]+'...'\n",
    "else:\n",
    "   frase = N[:3]+'...'+N[-3:]\n",
    "\n",
    "print(f'la frase è {frase}')\n"
   ]
  },
  {
   "cell_type": "code",
   "execution_count": 31,
   "id": "4cfbfe6d-fbf3-401d-9f19-d248a1712660",
   "metadata": {},
   "outputs": [
    {
     "name": "stdin",
     "output_type": "stream",
     "text": [
      "digita un numero 10\n"
     ]
    },
    {
     "name": "stdout",
     "output_type": "stream",
     "text": [
      "[2, 5]\n"
     ]
    }
   ],
   "source": [
    "#Memorizza e stampa tutti i fattori di un numero dato in input. Es: • input:150 • output:[2, 3, 5, 5]\n",
    "\n",
    "num= int(input('digita un numero'))              # prendo il numero dall'utente\n",
    "fattori = []                                     # Creo una lista vuota per memorizzare i fattori\n",
    "\n",
    "#Trovare i fattori primi: Utilizzo un ciclo per provare a dividere il numero per i numeri che \n",
    "#vanno da 2 fino a num. Il motivo per cui parto da 2 è che il primo numero primo è 2.\n",
    "\n",
    "div = 2                                          # partiamo dal primo numero primo, 2\n",
    "while div <= num:                                # continueremo finché div è minore o uguale a num\n",
    "    if num % div == 0:                           # se num è divisibile per div (resto 0) _ (%)divisione senza resto\n",
    "        fattori.append(div)                      # aggiungiamo div alla lista dei fattori\n",
    "        num //= div                              # dividiamo num per div\n",
    "    else:\n",
    "        div += 1                                 # se div non divide num, passiamo al prossimo numero\n",
    "\n",
    "print(fattori)"
   ]
  },
  {
   "cell_type": "code",
   "execution_count": 39,
   "id": "787dc450-13fc-44b5-8fb5-233f8d9198cf",
   "metadata": {},
   "outputs": [
    {
     "name": "stdout",
     "output_type": "stream",
     "text": [
      "lettera = E\n",
      "lettera = p\n",
      "lettera = i\n",
      "lettera = c\n",
      "lettera = o\n",
      "lettera = d\n",
      "lettera = e\n"
     ]
    }
   ],
   "source": [
    "# Stampare ogni carattere della stringa, uno su ogni riga, utilizzando un costrutto for.\n",
    "\n",
    "nome_scuola = \"Epicode\"                      #assegno una variabile a Epicode\n",
    "\n",
    "for lettere in nome_scuola:                  #per ogni lettera dentro il nome_scuola\n",
    "    print('lettera =',lettere)               #mi printi ogni lettera"
   ]
  },
  {
   "cell_type": "code",
   "execution_count": 29,
   "id": "72001ca4-44a5-402a-90a1-6d962f947011",
   "metadata": {},
   "outputs": [
    {
     "name": "stdout",
     "output_type": "stream",
     "text": [
      "[2, 4, 8, 16, 32, 64, 128, 256, 512, 1024]\n"
     ]
    }
   ],
   "source": [
    "# Esercizio Calcolare e stampare tutte le prime 10 potenze di 2 utilizzando un ciclo.\n",
    "# Utilizzeremo:  • un ciclo per generare i primi 10 numeri, e.g.\n",
    "\n",
    "range_numerico = list()                  # crea una lista vuota in cui metteremo i risultati \n",
    "num = 1                                  # inizializzo num a 1 (2^1) _ rappresenta l'esponente di 2 che vogliamo calcolare ad ogni ciclo.\n",
    "while num <= 10:                         # il ciclo si ripete finché num è <= 10\n",
    "    range_numerico.append(2**num)        # aggiunge il risultato di 2 elevato a num alla lista\n",
    "    num += 1                             # aumentiamo il valore di num di 1 ad ogni ciclo\n",
    "\n",
    "print(range_numerico)                    # che ora contiene tutte le prime 10 potenze di 2\n",
    "    "
   ]
  },
  {
   "cell_type": "code",
   "execution_count": 67,
   "id": "9494089b-a3c7-4e44-bdee-db0b8bfc96a6",
   "metadata": {},
   "outputs": [
    {
     "name": "stdout",
     "output_type": "stream",
     "text": [
      "70.0\n"
     ]
    }
   ],
   "source": [
    "#Abbiamo una lista con i guadagni degli ultimi 12 mesi:\n",
    "#usando un costrutto for, calcolare la media dei guadagni e stamparla a video.\n",
    "\n",
    "guadagni = [100, 90, 70, 40, 50, 80, 90, 120, 80, 20, 50, 50]   #lista guadagni mensili\n",
    "somma_guadagni=0                                                #variabile per sommare i guadagni\n",
    "\n",
    "for guadagno in guadagni:                                       #per ogni guadagno in guadagni(ogni elemento di guadagni)\n",
    "    somma_guadagni += guadagno                                  #lo zero si sommerà ad ogni elemento trasformandosi nel valore successivo (0+100+90... fa operazioni tutte in una sola volta)\n",
    "    media= somma_guadagni / len(guadagni)                       #media matematica = somma elementi / numero elementi sommati\n",
    "    \n",
    "    \n",
    "\n",
    "print(media)"
   ]
  },
  {
   "cell_type": "code",
   "execution_count": 179,
   "id": "bdb5cb77-4ee2-4ab3-91a0-5f2f6d351553",
   "metadata": {},
   "outputs": [
    {
     "name": "stdout",
     "output_type": "stream",
     "text": [
      "nella parola Albergo la lettera e appare: 1 volte\n",
      "nella parola Sedia la lettera e appare: 1 volte\n",
      "nella parola Borgo la lettera e appare: 0 volte\n",
      "nella parola Petalo la lettera e appare: 1 volte\n",
      "nella parola Eremo la lettera e appare: 2 volte\n",
      "nella parola Belvedere la lettera e appare: 4 volte\n",
      "nella parola Semestre la lettera e appare: 3 volte\n",
      "nella parola Esteta la lettera e appare: 2 volte\n",
      "nella parola Sosta la lettera e appare: 0 volte\n",
      "nella parola Orpello la lettera e appare: 1 volte\n",
      "nella parola Abete la lettera e appare: 2 volte\n",
      "nella parola Orologio la lettera e appare: 0 volte\n",
      "nella parola Cesta la lettera e appare: 1 volte\n",
      "nella parola Ermellino la lettera e appare: 2 volte\n"
     ]
    }
   ],
   "source": [
    "# Abbiamo una lista di parole:\n",
    "# stampiamo, per ogni parola, quante volte appare la lettera \"e\"; \n",
    "# facciamo attenzione al fatto che appare sia maiuscola che minuscola.\n",
    "\n",
    "parole = [\"Albergo\", \"Sedia\", \"Borgo\", \"Petalo\", \"Eremo\", \"Belvedere\", \"Semestre\", \"Esteta\", \"Sosta\", \"Orpello\", \"Abete\", \"Orologio\", \"Cesta\", \"Ermellino\"] \n",
    "\n",
    "for parola in parole:                                                        # Ciclo per ogni parola nella lista\n",
    "    count_e = parola.lower().count('e')                                      # Conta quante volte appare la lettera 'e' (sia maiuscola che minuscola) in ogni parola\n",
    "    print('nella parola',parola, 'la lettera e appare:', count_e, 'volte')   #nel print metto parola e count\n",
    "                \n",
    "\n"
   ]
  },
  {
   "cell_type": "code",
   "execution_count": 195,
   "id": "7806b882-1e7c-4e5e-bf8b-5c4574bf619f",
   "metadata": {},
   "outputs": [
    {
     "name": "stdout",
     "output_type": "stream",
     "text": [
      "{'Ada': 'Punto', 'Ben': 'Multipla', 'Charlie': 'Golf', 'Debbie': 107}\n",
      "107\n"
     ]
    }
   ],
   "source": [
    "# Esercizio Creiamo un dizionario che assegni ad ogni proprietario la sua auto, sapendo che: \n",
    "# Stampiamo il dizionario per intero, e poi l'auto associata a Debbie.\n",
    "\n",
    "proprietari_auto = {'Ada': 'Punto', 'Ben': 'Multipla', 'Charlie': 'Golf', 'Debbie': 107} \n",
    "print(proprietari_auto)\n",
    "print(proprietari_auto['Debbie'])                  #per richiamare un valore da un diz. bisogna printare il dizionario e poi specificare tra [''] la chiav\n",
    "\n"
   ]
  },
  {
   "cell_type": "code",
   "execution_count": 112,
   "id": "c0db53be-111c-4123-91a9-96e3763e8991",
   "metadata": {},
   "outputs": [
    {
     "name": "stdout",
     "output_type": "stream",
     "text": [
      "proprietario Ada : Punto\n",
      "proprietario Charlie : Golf\n",
      "proprietario Debbie : 107\n",
      "\n",
      "\n",
      "auto: Punto\n",
      "auto: Golf\n",
      "auto: 107\n"
     ]
    }
   ],
   "source": [
    "# Abbiamo un dizionario che assegna ad ogni proprietario la sua auto: \n",
    "# Con un ciclo, e usando il metodo .values(),  stampiamo a video tutte le auto che non sono una Multipla.\n",
    "\n",
    "dizionario_auto = {\"Ada\": \"Punto\", \"Ben\": \"Multipla\", \"Charlie\": \"Golf\", \"Debbie\": \"107\"} \n",
    "dizionario_auto.items()\n",
    "\n",
    "\n",
    "for proprietario, auto in dizionario_auto.items():              #items prende entrambi i valori nel diz. in maniera momentanea quindi specifico 'for key, values in diz.items()\n",
    "    if auto != 'Multipla':                                      #!= (diverso da Multipla allora lo voglio stampare)\n",
    "        print('proprietario', proprietario, ':', auto)\n",
    "\n",
    "print('\\n')                                                     #mettere spazio\n",
    "    \n",
    "for auto in dizionario_auto.values():                           #values() prende solo il valore tralasciando la key. prendimi il values\n",
    "    if auto != 'Multipla':\n",
    "        print('auto:',auto)\n",
    "\n"
   ]
  },
  {
   "cell_type": "code",
   "execution_count": 108,
   "id": "efa98101-9344-431e-800a-1ac0005324d9",
   "metadata": {},
   "outputs": [
    {
     "name": "stdout",
     "output_type": "stream",
     "text": [
      "{'Ada': 'Punto', 'Ben': 'Polo', 'Charlie': 'Golf', 'Debbie': '107', 'Emily': 'A1', 'Fred': 'Octavia', 'Grace': 'Yaris', 'Hugh': 'Clio'}\n"
     ]
    }
   ],
   "source": [
    "#Abbiamo due dizionari che assegnano ad ogni proprietario la propria auto: \n",
    "# Aggiornare il dizionario dizionario_auto con i dati contenuti in nuovi_proprietari e stamparlo.\n",
    "# Cosa è successo a Ben?\n",
    "\n",
    "dizionario_auto = {\"Ada\": \"Punto\", \"Ben\": \"Multipla\", \"Charlie\": \"Golf\", \"Debbie\": \"107\", \"Emily\": \"A1\"} \n",
    "nuovi_proprietari = {\"Ben\": \"Polo\", \"Fred\": \"Octavia\", \"Grace\": \"Yaris\", \"Hugh\": \"Clio\"} \n",
    "\n",
    "dizionario_auto.update(nuovi_proprietari)              #fai un update di dizionario e aggiungimi tra parentesi ciò che ti indico(in questo caso un dizionario con altri valori e uno modificati 'Ben')\n",
    "print(dizionario_auto)                                 #in questo caso, Ben che lo trova due volte, lo aggiorna cambiando il valore e facendo rimanere uguale la key, ovviamente!)"
   ]
  },
  {
   "cell_type": "code",
   "execution_count": 96,
   "id": "7829b33f-ea63-4f39-bc39-6d5e3e7729fa",
   "metadata": {},
   "outputs": [
    {
     "name": "stdin",
     "output_type": "stream",
     "text": [
      "digita una serie di numeri separati da uno spazio 2 2 2 3 3 5 7\n"
     ]
    },
    {
     "name": "stdout",
     "output_type": "stream",
     "text": [
      "minimo: 2\n",
      "massimo: 7\n"
     ]
    }
   ],
   "source": [
    "# Scrivere un programma che, data una lista di numeri, fornisca in output \n",
    "# il minimo e il massimo (possiamo usare o meno le funzioni built-in min() e max()).\n",
    "\n",
    "lista = list(map(int,input('digita una serie di numeri separati da uno spazio').split())) \n",
    "\n",
    "#creo un input per poter immettere dei numeri.\n",
    "# LIST(per creare una lista dentro input, così potrò metterci più numeri)\n",
    "\n",
    "# MAP(funzione, iterabile) questa serve per mappare ogni singolo elemento dentro la lista e trasformarmo in quello che io gli dico\n",
    "# in questo caso funzione=(int) cosa? iterabile=(input).\n",
    "\n",
    "#.SPLIT() Il metodo .split() è una funzione che divide una stringa in una lista di sottostringhe. Significa che puoi prendere\n",
    "# una stringa lunga e dividerla in pezzi più piccoli, e ogni pezzo diventa un elemento di una lista.\n",
    "# in questo caso lo split() prende lo spazio che separa ogni numero e lo calcola come separatore per permettermi di prendere \n",
    "# il signolo valore e lavorarci sopra con le operazioni imposte da me\n",
    "\n",
    "\n",
    "\n",
    "print('minimo:',min(lista))\n",
    "print('massimo:',max(lista))\n",
    "\n"
   ]
  },
  {
   "cell_type": "code",
   "execution_count": 130,
   "id": "6f0c9d89-8997-4917-b914-2d5d101247bc",
   "metadata": {},
   "outputs": [
    {
     "name": "stdin",
     "output_type": "stream",
     "text": [
      "Inserisci una lista di numeri separati da spazio:  4 1\n"
     ]
    },
    {
     "name": "stdout",
     "output_type": "stream",
     "text": [
      "La lista ha meno di tre numeri: 4\n"
     ]
    }
   ],
   "source": [
    "# Scrivere un programma che, data una lista di numeri, fornisca in output i tre numeri più grandi; \n",
    "# gestire il caso in cui la lista sia più corta di tre, e quando uno o più dei numeri selezionati sono uguali.\n",
    "\n",
    "# Chiediamo all'utente di inserire una lista di numeri separati da spazio\n",
    "lista = list(map(int, input('Inserisci una lista di numeri separati da spazio: ').split()))\n",
    "\n",
    "# Verifichiamo se la lista è più corta di 3 numeri\n",
    "if len(lista) <= 3:\n",
    "    print(\"La lista ha meno di tre numeri:\", max(lista))\n",
    "else:\n",
    "    # Ordiniamo la lista in ordine decrescente\n",
    "    lista.sort(reverse=True)\n",
    "    # Prendiamo i primi 3 numeri più grandi tramite slicing\n",
    "    maggiori = lista[:3]\n",
    "    # Stampiamo i risultati\n",
    "    print(\"I tre numeri più grandi sono:\", maggiori)\n",
    "\n"
   ]
  },
  {
   "cell_type": "code",
   "execution_count": 160,
   "id": "8c251f8e-263b-459b-8cff-634d77d4cbdc",
   "metadata": {},
   "outputs": [
    {
     "name": "stdin",
     "output_type": "stream",
     "text": [
      "digita una serie di numeri separati da uno spazio 10 20 35 48 6\n",
      "inserisci un numero 9\n"
     ]
    },
    {
     "name": "stdout",
     "output_type": "stream",
     "text": [
      "La media dei valori maggiori o uguali a 9 è: 28.25\n"
     ]
    }
   ],
   "source": [
    "### Scrivere un programma che • in input acquisisce una lista di numeri e un numero K \n",
    "# • in output, dovrà restituire la media di tutti i numeri nella lista maggiori o uguali a K \n",
    "# • se non ce ne dovesse essere nessuno, dovrà stampare a schermo un messaggio adeguato.\n",
    "\n",
    "lista = list(map(int,input('digita una serie di numeri separati da uno spazio').split()))\n",
    "K = int(input('inserisci un numero'))\n",
    "lista_media = []\n",
    "\n",
    "for numero in lista:\n",
    "    if  numero >= K:\n",
    "        lista_media.append(numero)\n",
    "        \n",
    "# Verificare se ci sono numeri validi nella lista\n",
    "if len(lista_media) > 0:\n",
    "                             # Calcolare la media dei numeri maggiori o uguali a K  [.mean() non si può usare come funzione ma servono array e np)\n",
    "    media = sum(lista_media) / len(lista_media)     \n",
    "                            #calcolo matematicamente la media, quindi: sommo i numeri dentro la lista media e  li divido tante volte quanti sono i numeri al suo interno\n",
    "    print('La media dei valori maggiori o uguali a', K, 'è:', media)\n",
    "else:\n",
    "    print('La lista non contiene numeri maggiori o uguali a', K)"
   ]
  },
  {
   "cell_type": "code",
   "execution_count": 176,
   "id": "3f817ec9-fece-4816-b19e-1b6f3244d1ec",
   "metadata": {},
   "outputs": [
    {
     "name": "stdin",
     "output_type": "stream",
     "text": [
      "digita una serie di numero separati da uno spazio 3 4 5\n"
     ]
    },
    {
     "name": "stdout",
     "output_type": "stream",
     "text": [
      "***\n",
      "****\n",
      "*****\n"
     ]
    }
   ],
   "source": [
    "# Scrivere un programma che, data una lista di numeri, come output stamperà lo stesso numero di asterischi su righe diverse, \n",
    "# ottenendo una semplice visualizzazione grafica... -numeri = [5, 2, 3, 4] L'output sarà: ***** ** *** ****\n",
    "\n",
    "lista = list(map(int,input('digita una serie di numero separati da uno spazio').split()))\n",
    "\n",
    "for numero in lista:          #per ogni numero dentro la lista\n",
    "    print('*' * numero)       #mi fai il printi di * per numero\n",
    "    \n"
   ]
  },
  {
   "cell_type": "code",
   "execution_count": 21,
   "id": "9ee7cea1-c697-417b-89cc-9a62b0b0d1aa",
   "metadata": {},
   "outputs": [
    {
     "name": "stdout",
     "output_type": "stream",
     "text": [
      "codice fiscale: ABCDEF95G01A123B\n",
      "nome: ABC\n",
      "cognome: DEF\n",
      "codice fiscale: STUVWX95Z04A654E\n",
      "nome: STU\n",
      "cognome: VWX\n",
      "codice fiscale: DEFGHI95J06A987G\n",
      "nome: DEF\n",
      "cognome: GHI\n"
     ]
    }
   ],
   "source": [
    "# trovare i codici fiscali che contengono \"95\", metterli in una lista, e alla fine stamparla;\n",
    "# per ognuno di essi, stampare a video i caratteri relativi al nome e quelli relativi al cognome.\n",
    "\n",
    "lista_cf = [\"ABCDEF95G01A123B\", \"GHIJKL91M02A321C\", \"MNOPQR89S03A456D\", \n",
    "            \"STUVWX95Z04A654E\", \"XYZABC01D05A789F\", \"DEFGHI95J06A987G\"]\n",
    "\n",
    "for codice in lista_cf:                      #per ogni codice nella lista se contiene 95 mi stampi:\n",
    "    if '95' in codice:\n",
    "        print('codice fiscale:',codice)        #codice intero   \n",
    "        print('nome:',codice[:3])              #index dei primi 3\n",
    "        print('cognome:',codice[3:6])          #index da 3 a 6"
   ]
  },
  {
   "cell_type": "code",
   "execution_count": 66,
   "id": "c0657168-6c1d-4b9c-9f6a-506c189321dd",
   "metadata": {},
   "outputs": [
    {
     "name": "stdout",
     "output_type": "stream",
     "text": [
      "Alex\n",
      "Faith\n"
     ]
    }
   ],
   "source": [
    "# Stampare a video tutti e soli gli studenti che frequentano una prima edizione;\n",
    "# non tutti i dati potrebbero essere necessari.\n",
    "# Riuscite a vedere una similarità con la logica che si usa in SQL e le tabelle relazionali?\n",
    "\n",
    "studenti = [\"Alex\", \"Bob\", \"Cindy\", \"Dan\", \"Emma\", \"Faith\", \"Grace\", \"Henry\"] \n",
    "corsi = [\"Cybersecurity\", \"Data Analyst\", \"Backend\", \"Frontend\",\n",
    "         \"Data Analyst\", \"Backend\", \"Frontend\", \"Cybersecurity\"] \n",
    "edizioni = [1, 2, 3, 2, 2, 1, 3, 3]\n",
    "\n",
    "\n",
    "\n",
    "for studente, corso, edizione in zip(studenti, corsi, edizioni):  \n",
    "                             #La funzione zip(studenti, corsi, edizioni) combina le tre liste \n",
    "                             #e le restituisce come sequenze di tuple. Ogni tupla avrà un elemento \n",
    "                             # da ciascuna delle tre liste, quindi ogni iterazione del ciclo avrà:\n",
    "    if edizione == 1:        #se studente corrisponde a 1(riferendosi alle edizioni)\n",
    "        print (studente)     #stampami il nome degli studenti\n",
    "\n",
    "# SELECT nome_studente\n",
    "# FROM studenti\n",
    "# JOIN corsi ON studenti.id_corso = corsi.id\n",
    "# JOIN edizioni ON corsi.id = edizioni.id_corso\n",
    "# WHERE edizioni.numero = 1;\n"
   ]
  },
  {
   "cell_type": "code",
   "execution_count": 84,
   "id": "996cafb8-8dc0-4f62-a899-b4df724c0870",
   "metadata": {},
   "outputs": [
    {
     "name": "stdout",
     "output_type": "stream",
     "text": [
      "['100 $', '200 $', '500 $', '10 $', '50 $', '70 $']\n"
     ]
    }
   ],
   "source": [
    "# cambiare il simbolo dell'euro (€) in quello del dollaro ($) per ogni stringa\n",
    "# nella lista; il risultato sarà memorizzato in un'altra lista.\n",
    "\n",
    "prezzi = [\"100 €\", \"200 €\", \"500 €\", \"10 €\", \"50 €\", \"70 €\"]\n",
    "\n",
    "# Nuova lista per memorizzare i risultati con il simbolo del dollaro\n",
    "prezzi_dollaro = []\n",
    "\n",
    "# Iteriamo su ogni prezzo nella lista originale\n",
    "for prezzo in prezzi:\n",
    "    # Sostituiamo il simbolo dell'euro (€) con il simbolo del dollaro ($)\n",
    "    prezzo_dollaro = prezzo.replace(\"€\", \"$\")\n",
    "    # Aggiungiamo il risultato alla nuova lista\n",
    "    prezzi_dollaro.append(prezzo_dollaro)\n",
    "\n",
    "# Stampa della lista modificata\n",
    "print(prezzi_dollaro)"
   ]
  },
  {
   "cell_type": "code",
   "execution_count": 13,
   "id": "f79d1f69-b034-4561-8a07-38034bba1909",
   "metadata": {},
   "outputs": [
    {
     "name": "stdout",
     "output_type": "stream",
     "text": [
      "Squadra 1 (posizioni pari): ['Alex', 'Cindy', 'Emma', 'Grace', 'Isabelle']\n",
      "Squadra 2 (posizioni dispari): ['Bob', 'Dan', 'Faith', 'Henry', 'John']\n"
     ]
    }
   ],
   "source": [
    "# vogliamo dividere gli studenti in due squadre per un campionato di Uno nel seguente modo: \n",
    "# selezioneremo i nomi in posizione pari per un squadra, e i nomi in posizione dispari per l'altra. \n",
    "# Creiamo due liste per ogni squadra, e alla fine visualizziamole.\n",
    "\n",
    "studenti = [\"Alex\", \"Bob\", \"Cindy\", \"Dan\", \"Emma\", \"Faith\", \"Grace\", \"Henry\", \"Isabelle\", \"John\"]\n",
    "\n",
    "# Due liste vuote per le due squadre\n",
    "squadra_pari = []  # Squadra 1 (studenti con indice pari)\n",
    "squadra_dispari = []  # Squadra 2 (studenti con indice dispari)\n",
    "\n",
    "# Iteriamo su ogni studente nella lista e separiamo in base alla posizione (pari o dispari)\n",
    "for studente in range(len(studenti)):  \n",
    "    \n",
    "    # i è l'indice che va da 0 a len(studenti)-1\n",
    "    # La funzione range() genera una sequenza di numeri, \n",
    "    # e il numero finale della sequenza non è incluso.\n",
    "    # len(studenti): La funzione len() restituisce la lunghezza della lista, \n",
    "    # cioè il numero di elementi che ci sono nella lista. \n",
    "    \n",
    "    if studente % 2 == 0:  # Se l'indice è pari (i % 2 == 0) [%divisione senza numeri dopo la virgola, senza resto]\n",
    "        squadra_pari.append(studenti[studente])  # Aggiungiamo lo studente alla squadra 1\n",
    "    else:  # Se l'indice è dispari (i % 2 != 0)\n",
    "        squadra_dispari.append(studenti[studente])  # Aggiungiamo lo studente alla squadra 2\n",
    "\n",
    "# Stampiamo le due squadre\n",
    "print(\"Squadra 1 (posizioni pari):\", squadra_pari)\n",
    "print(\"Squadra 2 (posizioni dispari):\", squadra_dispari)\n",
    "    \n",
    "\n",
    "\n",
    "\n"
   ]
  },
  {
   "cell_type": "code",
   "execution_count": 49,
   "id": "31dfa46d-8ef3-4524-95e4-2f3507c95b7d",
   "metadata": {},
   "outputs": [
    {
     "name": "stdout",
     "output_type": "stream",
     "text": [
      "il guadagno è: 100 /// la media precedente: 100.0  è minore\n",
      "il guadagno è: 90 /// la media precedente: 95.0  è minore\n",
      "il guadagno è: 70 /// la media precedente: 86.67  è minore\n",
      "il guadagno è: 40 /// la media precedente: 75.0  è minore\n",
      "il guadagno è: 50 /// la media precedente: 70.0  è minore\n",
      "il guadagno è: 80 /// la media precedente: 71.67  è maggiore\n",
      "il guadagno è: 90 /// la media precedente: 74.29  è maggiore\n",
      "il guadagno è: 120 /// la media precedente: 80.0  è maggiore\n",
      "il guadagno è: 80 /// la media precedente: 80.0  è minore\n",
      "il guadagno è: 20 /// la media precedente: 74.0  è minore\n",
      "il guadagno è: 50 /// la media precedente: 71.82  è minore\n",
      "il guadagno è: 50 /// la media precedente: 70.0  è minore\n"
     ]
    }
   ],
   "source": [
    "# dobbiamo confrontare, stampando tutto a video, il guadagno di ogni mese con la media\n",
    "# dei guadagni precedenti, e specificare nell'output se il guadagno attuale \n",
    "# è maggiore o minore della media dei precedenti.\n",
    "\n",
    "guadagni = [100, 90, 70, 40, 50, 80, 90, 120, 80, 20, 50, 50] \n",
    "mese = 1\n",
    "somma_guadagni = 0\n",
    "\n",
    "for guadagno in guadagni:\n",
    "    somma_guadagni += guadagno\n",
    "    if guadagno <= somma_guadagni / mese:\n",
    "        print('il guadagno è:', guadagno,'/// la media precedente:',  round(somma_guadagni / mese,2), ' è minore')\n",
    "        mese+=1\n",
    "    else:\n",
    "        print('il guadagno è:', guadagno,'/// la media precedente:', round(somma_guadagni / mese,2),' è maggiore')\n",
    "        mese+=1\n",
    "    \n",
    "    "
   ]
  },
  {
   "cell_type": "code",
   "execution_count": null,
   "id": "4cf4ee13-2ba5-4dd6-86fb-c15930045b20",
   "metadata": {},
   "outputs": [],
   "source": []
  }
 ],
 "metadata": {
  "kernelspec": {
   "display_name": "Python [conda env:base] *",
   "language": "python",
   "name": "conda-base-py"
  },
  "language_info": {
   "codemirror_mode": {
    "name": "ipython",
    "version": 3
   },
   "file_extension": ".py",
   "mimetype": "text/x-python",
   "name": "python",
   "nbconvert_exporter": "python",
   "pygments_lexer": "ipython3",
   "version": "3.12.7"
  }
 },
 "nbformat": 4,
 "nbformat_minor": 5
}
